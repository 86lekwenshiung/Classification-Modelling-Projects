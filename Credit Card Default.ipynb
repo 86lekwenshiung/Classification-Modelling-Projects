{
 "cells": [
  {
   "cell_type": "code",
   "execution_count": 1,
   "id": "59fa2fe3",
   "metadata": {},
   "outputs": [],
   "source": [
    "import pandas as pd\n",
    "import numpy as np\n",
    "import matplotlib.pyplot as plt\n",
    "import seaborn as sns\n",
    "\n",
    "from sklearn.model_selection import train_test_split , GridSearchCV\n",
    "from sklearn.linear_model import LogisticRegression\n",
    "from sklearn.metrics import confusion_matrix , plot_confusion_matrix , plot_roc_curve\n",
    "from imblearn.over_sampling import SMOTE , RandomOverSampler"
   ]
  },
  {
   "cell_type": "code",
   "execution_count": 2,
   "id": "d301fc3c",
   "metadata": {},
   "outputs": [],
   "source": [
    "def eval_classification(y_true , y_pred):\n",
    "    from sklearn.metrics import accuracy_score , precision_score , f1_score , recall_score\n",
    "    \n",
    "    accuracy = accuracy_score(y_true , y_pred)\n",
    "    precision = precision_score(y_true , y_pred)\n",
    "    f1 = f1_score(y_true , y_pred)\n",
    "    recall = recall_score(y_true , y_pred)\n",
    "    \n",
    "    score_dict = {'Accuracy' : accuracy,\n",
    "                  'Precision' : precision,\n",
    "                  'F1 Score' : f1,\n",
    "                  'Recall' : recall}\n",
    "    \n",
    "    return score_dict"
   ]
  },
  {
   "cell_type": "code",
   "execution_count": 3,
   "id": "a266b087",
   "metadata": {},
   "outputs": [],
   "source": [
    "def plot_2d_space(X, y, label='Classes'):   \n",
    "    colors = ['#1F77B4', '#FF7F0E']\n",
    "    markers = ['o', 's']\n",
    "    for l, c, m in zip(np.unique(y), colors, markers):\n",
    "        plt.scatter(\n",
    "            X[y==l, 0],\n",
    "            X[y==l, 1],\n",
    "            c=c, label=l, marker=m\n",
    "        )\n",
    "    plt.title(label)\n",
    "    plt.legend(loc='upper right')"
   ]
  },
  {
   "cell_type": "code",
   "execution_count": 4,
   "id": "df0705f0",
   "metadata": {},
   "outputs": [
    {
     "data": {
      "text/html": [
       "<div>\n",
       "<style scoped>\n",
       "    .dataframe tbody tr th:only-of-type {\n",
       "        vertical-align: middle;\n",
       "    }\n",
       "\n",
       "    .dataframe tbody tr th {\n",
       "        vertical-align: top;\n",
       "    }\n",
       "\n",
       "    .dataframe thead th {\n",
       "        text-align: right;\n",
       "    }\n",
       "</style>\n",
       "<table border=\"1\" class=\"dataframe\">\n",
       "  <thead>\n",
       "    <tr style=\"text-align: right;\">\n",
       "      <th></th>\n",
       "      <th>id</th>\n",
       "      <th>OVD_t1</th>\n",
       "      <th>OVD_t2</th>\n",
       "      <th>OVD_t3</th>\n",
       "      <th>OVD_sum</th>\n",
       "      <th>pay_normal</th>\n",
       "      <th>prod_code</th>\n",
       "      <th>prod_limit</th>\n",
       "      <th>update_date</th>\n",
       "      <th>new_balance</th>\n",
       "      <th>highest_balance</th>\n",
       "      <th>report_date</th>\n",
       "    </tr>\n",
       "  </thead>\n",
       "  <tbody>\n",
       "    <tr>\n",
       "      <th>0</th>\n",
       "      <td>58987402</td>\n",
       "      <td>0</td>\n",
       "      <td>0</td>\n",
       "      <td>0</td>\n",
       "      <td>0</td>\n",
       "      <td>1</td>\n",
       "      <td>10</td>\n",
       "      <td>16500.0</td>\n",
       "      <td>04/12/2016</td>\n",
       "      <td>0.0</td>\n",
       "      <td>NaN</td>\n",
       "      <td>NaN</td>\n",
       "    </tr>\n",
       "    <tr>\n",
       "      <th>1</th>\n",
       "      <td>58995151</td>\n",
       "      <td>0</td>\n",
       "      <td>0</td>\n",
       "      <td>0</td>\n",
       "      <td>0</td>\n",
       "      <td>1</td>\n",
       "      <td>5</td>\n",
       "      <td>NaN</td>\n",
       "      <td>04/12/2016</td>\n",
       "      <td>588720.0</td>\n",
       "      <td>491100.0</td>\n",
       "      <td>NaN</td>\n",
       "    </tr>\n",
       "    <tr>\n",
       "      <th>2</th>\n",
       "      <td>58997200</td>\n",
       "      <td>0</td>\n",
       "      <td>0</td>\n",
       "      <td>0</td>\n",
       "      <td>0</td>\n",
       "      <td>2</td>\n",
       "      <td>5</td>\n",
       "      <td>NaN</td>\n",
       "      <td>04/12/2016</td>\n",
       "      <td>840000.0</td>\n",
       "      <td>700500.0</td>\n",
       "      <td>22/04/2016</td>\n",
       "    </tr>\n",
       "    <tr>\n",
       "      <th>3</th>\n",
       "      <td>54988608</td>\n",
       "      <td>0</td>\n",
       "      <td>0</td>\n",
       "      <td>0</td>\n",
       "      <td>0</td>\n",
       "      <td>3</td>\n",
       "      <td>10</td>\n",
       "      <td>37400.0</td>\n",
       "      <td>03/12/2016</td>\n",
       "      <td>8425.2</td>\n",
       "      <td>7520.0</td>\n",
       "      <td>25/04/2016</td>\n",
       "    </tr>\n",
       "    <tr>\n",
       "      <th>4</th>\n",
       "      <td>54987763</td>\n",
       "      <td>0</td>\n",
       "      <td>0</td>\n",
       "      <td>0</td>\n",
       "      <td>0</td>\n",
       "      <td>2</td>\n",
       "      <td>10</td>\n",
       "      <td>NaN</td>\n",
       "      <td>03/12/2016</td>\n",
       "      <td>15147.6</td>\n",
       "      <td>NaN</td>\n",
       "      <td>26/04/2016</td>\n",
       "    </tr>\n",
       "  </tbody>\n",
       "</table>\n",
       "</div>"
      ],
      "text/plain": [
       "         id  OVD_t1  OVD_t2  OVD_t3  OVD_sum  pay_normal  prod_code  \\\n",
       "0  58987402       0       0       0        0           1         10   \n",
       "1  58995151       0       0       0        0           1          5   \n",
       "2  58997200       0       0       0        0           2          5   \n",
       "3  54988608       0       0       0        0           3         10   \n",
       "4  54987763       0       0       0        0           2         10   \n",
       "\n",
       "   prod_limit update_date  new_balance  highest_balance report_date  \n",
       "0     16500.0  04/12/2016          0.0              NaN         NaN  \n",
       "1         NaN  04/12/2016     588720.0         491100.0         NaN  \n",
       "2         NaN  04/12/2016     840000.0         700500.0  22/04/2016  \n",
       "3     37400.0  03/12/2016       8425.2           7520.0  25/04/2016  \n",
       "4         NaN  03/12/2016      15147.6              NaN  26/04/2016  "
      ]
     },
     "execution_count": 4,
     "metadata": {},
     "output_type": "execute_result"
    }
   ],
   "source": [
    "df_payment = pd.read_csv('Dataset/payment_data.csv')\n",
    "df_payment.head()"
   ]
  },
  {
   "cell_type": "code",
   "execution_count": 5,
   "id": "99faa2bb",
   "metadata": {},
   "outputs": [
    {
     "data": {
      "text/html": [
       "<div>\n",
       "<style scoped>\n",
       "    .dataframe tbody tr th:only-of-type {\n",
       "        vertical-align: middle;\n",
       "    }\n",
       "\n",
       "    .dataframe tbody tr th {\n",
       "        vertical-align: top;\n",
       "    }\n",
       "\n",
       "    .dataframe thead th {\n",
       "        text-align: right;\n",
       "    }\n",
       "</style>\n",
       "<table border=\"1\" class=\"dataframe\">\n",
       "  <thead>\n",
       "    <tr style=\"text-align: right;\">\n",
       "      <th></th>\n",
       "      <th>label</th>\n",
       "      <th>id</th>\n",
       "      <th>fea_1</th>\n",
       "      <th>fea_2</th>\n",
       "      <th>fea_3</th>\n",
       "      <th>fea_4</th>\n",
       "      <th>fea_5</th>\n",
       "      <th>fea_6</th>\n",
       "      <th>fea_7</th>\n",
       "      <th>fea_8</th>\n",
       "      <th>fea_9</th>\n",
       "      <th>fea_10</th>\n",
       "      <th>fea_11</th>\n",
       "    </tr>\n",
       "  </thead>\n",
       "  <tbody>\n",
       "    <tr>\n",
       "      <th>0</th>\n",
       "      <td>1</td>\n",
       "      <td>54982665</td>\n",
       "      <td>5</td>\n",
       "      <td>1245.5</td>\n",
       "      <td>3</td>\n",
       "      <td>77000.0</td>\n",
       "      <td>2</td>\n",
       "      <td>15</td>\n",
       "      <td>5</td>\n",
       "      <td>109</td>\n",
       "      <td>5</td>\n",
       "      <td>151300</td>\n",
       "      <td>244.948974</td>\n",
       "    </tr>\n",
       "    <tr>\n",
       "      <th>1</th>\n",
       "      <td>0</td>\n",
       "      <td>59004779</td>\n",
       "      <td>4</td>\n",
       "      <td>1277.0</td>\n",
       "      <td>1</td>\n",
       "      <td>113000.0</td>\n",
       "      <td>2</td>\n",
       "      <td>8</td>\n",
       "      <td>-1</td>\n",
       "      <td>100</td>\n",
       "      <td>3</td>\n",
       "      <td>341759</td>\n",
       "      <td>207.173840</td>\n",
       "    </tr>\n",
       "    <tr>\n",
       "      <th>2</th>\n",
       "      <td>0</td>\n",
       "      <td>58990862</td>\n",
       "      <td>7</td>\n",
       "      <td>1298.0</td>\n",
       "      <td>1</td>\n",
       "      <td>110000.0</td>\n",
       "      <td>2</td>\n",
       "      <td>11</td>\n",
       "      <td>-1</td>\n",
       "      <td>101</td>\n",
       "      <td>5</td>\n",
       "      <td>72001</td>\n",
       "      <td>1.000000</td>\n",
       "    </tr>\n",
       "    <tr>\n",
       "      <th>3</th>\n",
       "      <td>1</td>\n",
       "      <td>58995168</td>\n",
       "      <td>7</td>\n",
       "      <td>1335.5</td>\n",
       "      <td>1</td>\n",
       "      <td>151000.0</td>\n",
       "      <td>2</td>\n",
       "      <td>11</td>\n",
       "      <td>5</td>\n",
       "      <td>110</td>\n",
       "      <td>3</td>\n",
       "      <td>60084</td>\n",
       "      <td>1.000000</td>\n",
       "    </tr>\n",
       "    <tr>\n",
       "      <th>4</th>\n",
       "      <td>0</td>\n",
       "      <td>54987320</td>\n",
       "      <td>7</td>\n",
       "      <td>NaN</td>\n",
       "      <td>2</td>\n",
       "      <td>59000.0</td>\n",
       "      <td>2</td>\n",
       "      <td>11</td>\n",
       "      <td>5</td>\n",
       "      <td>108</td>\n",
       "      <td>4</td>\n",
       "      <td>450081</td>\n",
       "      <td>197.403141</td>\n",
       "    </tr>\n",
       "  </tbody>\n",
       "</table>\n",
       "</div>"
      ],
      "text/plain": [
       "   label        id  fea_1   fea_2  fea_3     fea_4  fea_5  fea_6  fea_7  \\\n",
       "0      1  54982665      5  1245.5      3   77000.0      2     15      5   \n",
       "1      0  59004779      4  1277.0      1  113000.0      2      8     -1   \n",
       "2      0  58990862      7  1298.0      1  110000.0      2     11     -1   \n",
       "3      1  58995168      7  1335.5      1  151000.0      2     11      5   \n",
       "4      0  54987320      7     NaN      2   59000.0      2     11      5   \n",
       "\n",
       "   fea_8  fea_9  fea_10      fea_11  \n",
       "0    109      5  151300  244.948974  \n",
       "1    100      3  341759  207.173840  \n",
       "2    101      5   72001    1.000000  \n",
       "3    110      3   60084    1.000000  \n",
       "4    108      4  450081  197.403141  "
      ]
     },
     "execution_count": 5,
     "metadata": {},
     "output_type": "execute_result"
    }
   ],
   "source": [
    "df_customer = pd.read_csv('Dataset/customer_data.csv')\n",
    "df_customer.head()"
   ]
  },
  {
   "cell_type": "markdown",
   "id": "9669fb8c",
   "metadata": {},
   "source": [
    "# 1.0 Data Overview\n",
    "___"
   ]
  },
  {
   "cell_type": "code",
   "execution_count": 6,
   "id": "cba46330",
   "metadata": {},
   "outputs": [
    {
     "name": "stdout",
     "output_type": "stream",
     "text": [
      "Shape of Payment DF: (8250, 12)\n",
      "Size of Payment DF: 99000\n",
      "Shape of Customer DF: (1125, 13)\n",
      "Size of Customer DF: 14625\n"
     ]
    }
   ],
   "source": [
    "print(f'Shape of Payment DF: {df_payment.shape}')\n",
    "print(f'Size of Payment DF: {df_payment.size}')\n",
    "print(f'Shape of Customer DF: {df_customer.shape}')\n",
    "print(f'Size of Customer DF: {df_customer.size}')"
   ]
  },
  {
   "cell_type": "code",
   "execution_count": 7,
   "id": "9f9dd847",
   "metadata": {},
   "outputs": [
    {
     "name": "stdout",
     "output_type": "stream",
     "text": [
      "<class 'pandas.core.frame.DataFrame'>\n",
      "RangeIndex: 1125 entries, 0 to 1124\n",
      "Data columns (total 13 columns):\n",
      " #   Column  Non-Null Count  Dtype  \n",
      "---  ------  --------------  -----  \n",
      " 0   label   1125 non-null   int64  \n",
      " 1   id      1125 non-null   int64  \n",
      " 2   fea_1   1125 non-null   int64  \n",
      " 3   fea_2   976 non-null    float64\n",
      " 4   fea_3   1125 non-null   int64  \n",
      " 5   fea_4   1125 non-null   float64\n",
      " 6   fea_5   1125 non-null   int64  \n",
      " 7   fea_6   1125 non-null   int64  \n",
      " 8   fea_7   1125 non-null   int64  \n",
      " 9   fea_8   1125 non-null   int64  \n",
      " 10  fea_9   1125 non-null   int64  \n",
      " 11  fea_10  1125 non-null   int64  \n",
      " 12  fea_11  1125 non-null   float64\n",
      "dtypes: float64(3), int64(10)\n",
      "memory usage: 114.4 KB\n"
     ]
    }
   ],
   "source": [
    "df_customer.info()"
   ]
  },
  {
   "cell_type": "code",
   "execution_count": 8,
   "id": "cc260481",
   "metadata": {},
   "outputs": [
    {
     "name": "stdout",
     "output_type": "stream",
     "text": [
      "<class 'pandas.core.frame.DataFrame'>\n",
      "RangeIndex: 8250 entries, 0 to 8249\n",
      "Data columns (total 12 columns):\n",
      " #   Column           Non-Null Count  Dtype  \n",
      "---  ------           --------------  -----  \n",
      " 0   id               8250 non-null   int64  \n",
      " 1   OVD_t1           8250 non-null   int64  \n",
      " 2   OVD_t2           8250 non-null   int64  \n",
      " 3   OVD_t3           8250 non-null   int64  \n",
      " 4   OVD_sum          8250 non-null   int64  \n",
      " 5   pay_normal       8250 non-null   int64  \n",
      " 6   prod_code        8250 non-null   int64  \n",
      " 7   prod_limit       2132 non-null   float64\n",
      " 8   update_date      8224 non-null   object \n",
      " 9   new_balance      8250 non-null   float64\n",
      " 10  highest_balance  7841 non-null   float64\n",
      " 11  report_date      7136 non-null   object \n",
      "dtypes: float64(3), int64(7), object(2)\n",
      "memory usage: 773.6+ KB\n"
     ]
    }
   ],
   "source": [
    "df_payment.info()"
   ]
  },
  {
   "cell_type": "markdown",
   "id": "ac70da13",
   "metadata": {},
   "source": [
    "### 1.1 Checking for Null\n",
    "___"
   ]
  },
  {
   "cell_type": "code",
   "execution_count": 9,
   "id": "c4435ddd",
   "metadata": {},
   "outputs": [
    {
     "data": {
      "image/png": "[encoded data removed]",
      "text/plain": [
       "<Figure size 576x432 with 1 Axes>"
      ]
     },
     "metadata": {
      "needs_background": "light"
     },
     "output_type": "display_data"
    }
   ],
   "source": [
    "df_payment.isnull().sum().plot(kind = 'bar' , figsize = (8,6))\n",
    "plt.title('Missing Value for DF Payment');"
   ]
  },
  {
   "cell_type": "code",
   "execution_count": 10,
   "id": "d4aec870",
   "metadata": {},
   "outputs": [
    {
     "data": {
      "image/png": "[encoded data removed]",
      "text/plain": [
       "<Figure size 576x432 with 1 Axes>"
      ]
     },
     "metadata": {
      "needs_background": "light"
     },
     "output_type": "display_data"
    }
   ],
   "source": [
    "df_customer.isnull().sum().plot(kind = 'bar' , figsize = (8,6))\n",
    "plt.title('Missing Value for DF Customer');"
   ]
  },
  {
   "cell_type": "code",
   "execution_count": 11,
   "id": "ada5a67f",
   "metadata": {},
   "outputs": [],
   "source": [
    "df_customer['fea_2'].fillna(value = df_customer['fea_2'].median() , inplace=True)"
   ]
  },
  {
   "cell_type": "markdown",
   "id": "05eee0f6",
   "metadata": {},
   "source": [
    "### 1.2 No. of Unique Customer\n",
    "___\n",
    "There are 849 unique customer ID in the payment DF, but there are 1125 unique customer ID in customer DF."
   ]
  },
  {
   "cell_type": "code",
   "execution_count": 12,
   "id": "6b3be6b8",
   "metadata": {},
   "outputs": [
    {
     "name": "stdout",
     "output_type": "stream",
     "text": [
      "There are 1125 unique customer in Payment DF\n",
      "There are 1125 unique customer in Customer DF\n"
     ]
    }
   ],
   "source": [
    "print(f'There are {len(df_payment[\"id\"].unique())} unique customer in Payment DF')\n",
    "print(f'There are {len(df_customer[\"id\"].unique())} unique customer in Customer DF')"
   ]
  },
  {
   "cell_type": "code",
   "execution_count": 13,
   "id": "a70395d5",
   "metadata": {},
   "outputs": [],
   "source": [
    "df_customer['id'] = df_customer['id'].astype('category')"
   ]
  },
  {
   "cell_type": "markdown",
   "id": "9ccbf514",
   "metadata": {},
   "source": [
    "# 1.3 Checking Data in DF Payment\n",
    "___\n",
    "|Features|Value|Description|\n",
    "|---|---|---|\n",
    "|Overdue Feature 1 <br> Overdue Feature 2 <br> Overdue Feature 3|Range of 0 to 40|No.of time overdue|\n",
    "|Overdue days| Range of 0 to 4006(Outliers)|total overdue days|\n",
    "|Pay Normal| Range of 0 to 36| no. of time normal payment|\n",
    "|Product Code| Range of 0 to 30| Credit Product code|"
   ]
  },
  {
   "cell_type": "code",
   "execution_count": 14,
   "id": "fb596b82",
   "metadata": {},
   "outputs": [],
   "source": [
    "countable_feature = ['OVD_t1' , 'OVD_t2' , 'OVD_t3' , 'pay_normal']"
   ]
  },
  {
   "cell_type": "markdown",
   "id": "c56a27a3",
   "metadata": {},
   "source": [
    "### 1.3.1 Most Popular Product\n",
    "___\n",
    "\n",
    " - Product #10 has the highest overdue for type 1 to 3 , as well as overdue days\n",
    " - Product #6 is the 2nd popular card , however the overdue rate is not as high as product #10 (1st pop) and product #5 (3rd popular). Can look further into the profile of user in this group"
   ]
  },
  {
   "cell_type": "code",
   "execution_count": 15,
   "id": "9d5a1bce",
   "metadata": {},
   "outputs": [
    {
     "data": {
      "image/png": "[encoded data removed]",
      "text/plain": [
       "<Figure size 864x648 with 1 Axes>"
      ]
     },
     "metadata": {
      "needs_background": "light"
     },
     "output_type": "display_data"
    }
   ],
   "source": [
    "df_payment.groupby('prod_code').count()['id'].plot(kind = 'bar' , figsize = (12,9))\n",
    "plt.title('Product Code Usage by Transaction Count');"
   ]
  },
  {
   "cell_type": "code",
   "execution_count": 16,
   "id": "6a144424",
   "metadata": {},
   "outputs": [
    {
     "data": {
      "image/png": "[encoded data removed]",
      "text/plain": [
       "<Figure size 864x648 with 4 Axes>"
      ]
     },
     "metadata": {
      "needs_background": "light"
     },
     "output_type": "display_data"
    }
   ],
   "source": [
    "# Product that has the highest overdue rate\n",
    "fig , ax = plt.subplots(2,2,figsize = (9,9))\n",
    "\n",
    "ax = ax.ravel()\n",
    "\n",
    "temp_df = df_payment.groupby('prod_code').count()\n",
    "\n",
    "for index , column in enumerate(countable_feature):\n",
    "    plt.subplot(2,2,index+1)\n",
    "    df_payment.groupby('prod_code').sum()[column].plot(kind = 'bar' , figsize = (12,9))\n",
    "    plt.ylabel(column)\n",
    "    \n",
    "plt.tight_layout()"
   ]
  },
  {
   "cell_type": "code",
   "execution_count": 17,
   "id": "c8a393a6",
   "metadata": {},
   "outputs": [
    {
     "data": {
      "image/png": "[encoded data removed]",
      "text/plain": [
       "<Figure size 648x648 with 4 Axes>"
      ]
     },
     "metadata": {
      "needs_background": "light"
     },
     "output_type": "display_data"
    }
   ],
   "source": [
    "fig , ax = plt.subplots(2,2,figsize = (9,9))\n",
    "\n",
    "ax = ax.ravel()\n",
    "\n",
    "temp_df = df_payment.groupby('id').sum()\n",
    "\n",
    "for index , column in enumerate(countable_feature):\n",
    "    sns.histplot(x = temp_df[column],\n",
    "                 data = temp_df,\n",
    "                 ax = ax[index])\n",
    "    \n",
    "plt.tight_layout()"
   ]
  },
  {
   "cell_type": "code",
   "execution_count": 18,
   "id": "3a25b78c",
   "metadata": {
    "scrolled": true
   },
   "outputs": [
    {
     "data": {
      "text/plain": [
       "0    0.8\n",
       "1    0.2\n",
       "Name: label, dtype: float64"
      ]
     },
     "execution_count": 18,
     "metadata": {},
     "output_type": "execute_result"
    }
   ],
   "source": [
    "# Imbalance dataset for risky and non-risky users\n",
    "df_customer['label'].value_counts(normalize = True)"
   ]
  },
  {
   "cell_type": "markdown",
   "id": "ae9b1e5c",
   "metadata": {},
   "source": [
    "# 1.4 Checking data in Payment Customer\n",
    "___\n",
    "\n",
    "- Convert Cat column to categorical data\n",
    "- f5 is Gender : Unique Value 1 ,2\n",
    "- f1 is education background ; Unique Value is 1 to 7\n",
    "- f3 is type of user : student , general , atas people\n"
   ]
  },
  {
   "cell_type": "code",
   "execution_count": 19,
   "id": "ce25f024",
   "metadata": {},
   "outputs": [],
   "source": [
    "cat_feature = ['fea_1' , 'fea_3' , 'fea_5' , 'fea_6' , 'fea_7' , 'fea_9']"
   ]
  },
  {
   "cell_type": "code",
   "execution_count": 20,
   "id": "990b2ff5",
   "metadata": {},
   "outputs": [],
   "source": [
    "df_customer[cat_feature] = df_customer[cat_feature].astype('category')"
   ]
  },
  {
   "cell_type": "code",
   "execution_count": 21,
   "id": "1ef0bba0",
   "metadata": {},
   "outputs": [
    {
     "name": "stdout",
     "output_type": "stream",
     "text": [
      "<class 'pandas.core.frame.DataFrame'>\n",
      "RangeIndex: 1125 entries, 0 to 1124\n",
      "Data columns (total 13 columns):\n",
      " #   Column  Non-Null Count  Dtype   \n",
      "---  ------  --------------  -----   \n",
      " 0   label   1125 non-null   int64   \n",
      " 1   id      1125 non-null   category\n",
      " 2   fea_1   1125 non-null   category\n",
      " 3   fea_2   1125 non-null   float64 \n",
      " 4   fea_3   1125 non-null   category\n",
      " 5   fea_4   1125 non-null   float64 \n",
      " 6   fea_5   1125 non-null   category\n",
      " 7   fea_6   1125 non-null   category\n",
      " 8   fea_7   1125 non-null   category\n",
      " 9   fea_8   1125 non-null   int64   \n",
      " 10  fea_9   1125 non-null   category\n",
      " 11  fea_10  1125 non-null   int64   \n",
      " 12  fea_11  1125 non-null   float64 \n",
      "dtypes: category(7), float64(3), int64(3)\n",
      "memory usage: 104.1 KB\n"
     ]
    }
   ],
   "source": [
    "df_customer.info()"
   ]
  },
  {
   "cell_type": "markdown",
   "id": "eebdcc47",
   "metadata": {},
   "source": [
    "# 1.5 Merging Dataset\n",
    "___"
   ]
  },
  {
   "cell_type": "code",
   "execution_count": 22,
   "id": "1cf36daa",
   "metadata": {},
   "outputs": [],
   "source": [
    "# We doing to drop all the dates and the balance data\n",
    "to_drop_columns = ['prod_limit' , 'new_balance' , 'highest_balance' , 'prod_code']"
   ]
  },
  {
   "cell_type": "code",
   "execution_count": 23,
   "id": "185d8caa",
   "metadata": {},
   "outputs": [],
   "source": [
    "df_payment = df_payment.groupby('id').sum().copy()"
   ]
  },
  {
   "cell_type": "code",
   "execution_count": 24,
   "id": "b845864e",
   "metadata": {},
   "outputs": [],
   "source": [
    "df_payment = df_payment.drop(to_drop_columns , axis = 1)"
   ]
  },
  {
   "cell_type": "code",
   "execution_count": 25,
   "id": "9ac2a7ae",
   "metadata": {},
   "outputs": [
    {
     "data": {
      "text/html": [
       "<div>\n",
       "<style scoped>\n",
       "    .dataframe tbody tr th:only-of-type {\n",
       "        vertical-align: middle;\n",
       "    }\n",
       "\n",
       "    .dataframe tbody tr th {\n",
       "        vertical-align: top;\n",
       "    }\n",
       "\n",
       "    .dataframe thead th {\n",
       "        text-align: right;\n",
       "    }\n",
       "</style>\n",
       "<table border=\"1\" class=\"dataframe\">\n",
       "  <thead>\n",
       "    <tr style=\"text-align: right;\">\n",
       "      <th></th>\n",
       "      <th>OVD_t1</th>\n",
       "      <th>OVD_t2</th>\n",
       "      <th>OVD_t3</th>\n",
       "      <th>OVD_sum</th>\n",
       "      <th>pay_normal</th>\n",
       "    </tr>\n",
       "    <tr>\n",
       "      <th>id</th>\n",
       "      <th></th>\n",
       "      <th></th>\n",
       "      <th></th>\n",
       "      <th></th>\n",
       "      <th></th>\n",
       "    </tr>\n",
       "  </thead>\n",
       "  <tbody>\n",
       "    <tr>\n",
       "      <th>54982353</th>\n",
       "      <td>3</td>\n",
       "      <td>2</td>\n",
       "      <td>38</td>\n",
       "      <td>32078</td>\n",
       "      <td>229</td>\n",
       "    </tr>\n",
       "    <tr>\n",
       "      <th>54982356</th>\n",
       "      <td>0</td>\n",
       "      <td>0</td>\n",
       "      <td>0</td>\n",
       "      <td>0</td>\n",
       "      <td>117</td>\n",
       "    </tr>\n",
       "    <tr>\n",
       "      <th>54982387</th>\n",
       "      <td>3</td>\n",
       "      <td>0</td>\n",
       "      <td>0</td>\n",
       "      <td>12</td>\n",
       "      <td>246</td>\n",
       "    </tr>\n",
       "    <tr>\n",
       "      <th>54982463</th>\n",
       "      <td>0</td>\n",
       "      <td>0</td>\n",
       "      <td>0</td>\n",
       "      <td>0</td>\n",
       "      <td>34</td>\n",
       "    </tr>\n",
       "    <tr>\n",
       "      <th>54982530</th>\n",
       "      <td>0</td>\n",
       "      <td>0</td>\n",
       "      <td>0</td>\n",
       "      <td>0</td>\n",
       "      <td>56</td>\n",
       "    </tr>\n",
       "    <tr>\n",
       "      <th>...</th>\n",
       "      <td>...</td>\n",
       "      <td>...</td>\n",
       "      <td>...</td>\n",
       "      <td>...</td>\n",
       "      <td>...</td>\n",
       "    </tr>\n",
       "    <tr>\n",
       "      <th>59005995</th>\n",
       "      <td>0</td>\n",
       "      <td>0</td>\n",
       "      <td>0</td>\n",
       "      <td>0</td>\n",
       "      <td>49</td>\n",
       "    </tr>\n",
       "    <tr>\n",
       "      <th>59006139</th>\n",
       "      <td>0</td>\n",
       "      <td>0</td>\n",
       "      <td>0</td>\n",
       "      <td>0</td>\n",
       "      <td>29</td>\n",
       "    </tr>\n",
       "    <tr>\n",
       "      <th>59006193</th>\n",
       "      <td>0</td>\n",
       "      <td>0</td>\n",
       "      <td>0</td>\n",
       "      <td>0</td>\n",
       "      <td>106</td>\n",
       "    </tr>\n",
       "    <tr>\n",
       "      <th>59006219</th>\n",
       "      <td>1</td>\n",
       "      <td>0</td>\n",
       "      <td>0</td>\n",
       "      <td>28</td>\n",
       "      <td>81</td>\n",
       "    </tr>\n",
       "    <tr>\n",
       "      <th>59006239</th>\n",
       "      <td>0</td>\n",
       "      <td>0</td>\n",
       "      <td>0</td>\n",
       "      <td>0</td>\n",
       "      <td>32</td>\n",
       "    </tr>\n",
       "  </tbody>\n",
       "</table>\n",
       "<p>1125 rows × 5 columns</p>\n",
       "</div>"
      ],
      "text/plain": [
       "          OVD_t1  OVD_t2  OVD_t3  OVD_sum  pay_normal\n",
       "id                                                   \n",
       "54982353       3       2      38    32078         229\n",
       "54982356       0       0       0        0         117\n",
       "54982387       3       0       0       12         246\n",
       "54982463       0       0       0        0          34\n",
       "54982530       0       0       0        0          56\n",
       "...          ...     ...     ...      ...         ...\n",
       "59005995       0       0       0        0          49\n",
       "59006139       0       0       0        0          29\n",
       "59006193       0       0       0        0         106\n",
       "59006219       1       0       0       28          81\n",
       "59006239       0       0       0        0          32\n",
       "\n",
       "[1125 rows x 5 columns]"
      ]
     },
     "execution_count": 25,
     "metadata": {},
     "output_type": "execute_result"
    }
   ],
   "source": [
    "df_payment"
   ]
  },
  {
   "cell_type": "code",
   "execution_count": 26,
   "id": "ca1fffa5",
   "metadata": {},
   "outputs": [],
   "source": [
    "df_merge = df_payment.merge(df_customer,\n",
    "                            left_on = 'id',\n",
    "                            right_on = 'id',\n",
    "                            how = 'inner')"
   ]
  },
  {
   "cell_type": "code",
   "execution_count": 27,
   "id": "c4a5c6cf",
   "metadata": {
    "scrolled": true
   },
   "outputs": [
    {
     "data": {
      "text/html": [
       "<div>\n",
       "<style scoped>\n",
       "    .dataframe tbody tr th:only-of-type {\n",
       "        vertical-align: middle;\n",
       "    }\n",
       "\n",
       "    .dataframe tbody tr th {\n",
       "        vertical-align: top;\n",
       "    }\n",
       "\n",
       "    .dataframe thead th {\n",
       "        text-align: right;\n",
       "    }\n",
       "</style>\n",
       "<table border=\"1\" class=\"dataframe\">\n",
       "  <thead>\n",
       "    <tr style=\"text-align: right;\">\n",
       "      <th></th>\n",
       "      <th>id</th>\n",
       "      <th>OVD_t1</th>\n",
       "      <th>OVD_t2</th>\n",
       "      <th>OVD_t3</th>\n",
       "      <th>OVD_sum</th>\n",
       "      <th>pay_normal</th>\n",
       "      <th>label</th>\n",
       "      <th>fea_1</th>\n",
       "      <th>fea_2</th>\n",
       "      <th>fea_3</th>\n",
       "      <th>fea_4</th>\n",
       "      <th>fea_5</th>\n",
       "      <th>fea_6</th>\n",
       "      <th>fea_7</th>\n",
       "      <th>fea_8</th>\n",
       "      <th>fea_9</th>\n",
       "      <th>fea_10</th>\n",
       "      <th>fea_11</th>\n",
       "    </tr>\n",
       "  </thead>\n",
       "  <tbody>\n",
       "    <tr>\n",
       "      <th>0</th>\n",
       "      <td>54982353</td>\n",
       "      <td>3</td>\n",
       "      <td>2</td>\n",
       "      <td>38</td>\n",
       "      <td>32078</td>\n",
       "      <td>229</td>\n",
       "      <td>0</td>\n",
       "      <td>1</td>\n",
       "      <td>1130.0</td>\n",
       "      <td>2</td>\n",
       "      <td>1000000.0</td>\n",
       "      <td>2</td>\n",
       "      <td>4</td>\n",
       "      <td>-1</td>\n",
       "      <td>100</td>\n",
       "      <td>5</td>\n",
       "      <td>650018</td>\n",
       "      <td>1.000000</td>\n",
       "    </tr>\n",
       "    <tr>\n",
       "      <th>1</th>\n",
       "      <td>54982356</td>\n",
       "      <td>0</td>\n",
       "      <td>0</td>\n",
       "      <td>0</td>\n",
       "      <td>0</td>\n",
       "      <td>117</td>\n",
       "      <td>0</td>\n",
       "      <td>1</td>\n",
       "      <td>1391.0</td>\n",
       "      <td>1</td>\n",
       "      <td>1200000.0</td>\n",
       "      <td>2</td>\n",
       "      <td>5</td>\n",
       "      <td>-1</td>\n",
       "      <td>64</td>\n",
       "      <td>5</td>\n",
       "      <td>361026</td>\n",
       "      <td>1.000000</td>\n",
       "    </tr>\n",
       "    <tr>\n",
       "      <th>2</th>\n",
       "      <td>54982387</td>\n",
       "      <td>3</td>\n",
       "      <td>0</td>\n",
       "      <td>0</td>\n",
       "      <td>12</td>\n",
       "      <td>246</td>\n",
       "      <td>1</td>\n",
       "      <td>2</td>\n",
       "      <td>1349.0</td>\n",
       "      <td>1</td>\n",
       "      <td>286000.0</td>\n",
       "      <td>2</td>\n",
       "      <td>3</td>\n",
       "      <td>-1</td>\n",
       "      <td>80</td>\n",
       "      <td>3</td>\n",
       "      <td>361003</td>\n",
       "      <td>1.000000</td>\n",
       "    </tr>\n",
       "    <tr>\n",
       "      <th>3</th>\n",
       "      <td>54982463</td>\n",
       "      <td>0</td>\n",
       "      <td>0</td>\n",
       "      <td>0</td>\n",
       "      <td>0</td>\n",
       "      <td>34</td>\n",
       "      <td>0</td>\n",
       "      <td>5</td>\n",
       "      <td>1272.5</td>\n",
       "      <td>3</td>\n",
       "      <td>70000.0</td>\n",
       "      <td>2</td>\n",
       "      <td>15</td>\n",
       "      <td>5</td>\n",
       "      <td>113</td>\n",
       "      <td>5</td>\n",
       "      <td>60033</td>\n",
       "      <td>167.122709</td>\n",
       "    </tr>\n",
       "    <tr>\n",
       "      <th>4</th>\n",
       "      <td>54982530</td>\n",
       "      <td>0</td>\n",
       "      <td>0</td>\n",
       "      <td>0</td>\n",
       "      <td>0</td>\n",
       "      <td>56</td>\n",
       "      <td>0</td>\n",
       "      <td>5</td>\n",
       "      <td>1272.5</td>\n",
       "      <td>3</td>\n",
       "      <td>120000.0</td>\n",
       "      <td>1</td>\n",
       "      <td>15</td>\n",
       "      <td>5</td>\n",
       "      <td>110</td>\n",
       "      <td>5</td>\n",
       "      <td>72000</td>\n",
       "      <td>187.082869</td>\n",
       "    </tr>\n",
       "  </tbody>\n",
       "</table>\n",
       "</div>"
      ],
      "text/plain": [
       "         id  OVD_t1  OVD_t2  OVD_t3  OVD_sum  pay_normal  label fea_1   fea_2  \\\n",
       "0  54982353       3       2      38    32078         229      0     1  1130.0   \n",
       "1  54982356       0       0       0        0         117      0     1  1391.0   \n",
       "2  54982387       3       0       0       12         246      1     2  1349.0   \n",
       "3  54982463       0       0       0        0          34      0     5  1272.5   \n",
       "4  54982530       0       0       0        0          56      0     5  1272.5   \n",
       "\n",
       "  fea_3      fea_4 fea_5 fea_6 fea_7  fea_8 fea_9  fea_10      fea_11  \n",
       "0     2  1000000.0     2     4    -1    100     5  650018    1.000000  \n",
       "1     1  1200000.0     2     5    -1     64     5  361026    1.000000  \n",
       "2     1   286000.0     2     3    -1     80     3  361003    1.000000  \n",
       "3     3    70000.0     2    15     5    113     5   60033  167.122709  \n",
       "4     3   120000.0     1    15     5    110     5   72000  187.082869  "
      ]
     },
     "execution_count": 27,
     "metadata": {},
     "output_type": "execute_result"
    }
   ],
   "source": [
    "df_merge.head()"
   ]
  },
  {
   "cell_type": "code",
   "execution_count": 28,
   "id": "d743f4dc",
   "metadata": {},
   "outputs": [
    {
     "data": {
      "text/plain": [
       "0"
      ]
     },
     "execution_count": 28,
     "metadata": {},
     "output_type": "execute_result"
    }
   ],
   "source": [
    "df_merge.isnull().sum().sum()"
   ]
  },
  {
   "cell_type": "code",
   "execution_count": 29,
   "id": "84ef0bcd",
   "metadata": {},
   "outputs": [],
   "source": [
    "df_merge.set_index('id' , inplace=True)"
   ]
  },
  {
   "cell_type": "code",
   "execution_count": 30,
   "id": "22e1b450",
   "metadata": {},
   "outputs": [
    {
     "data": {
      "text/plain": [
       "<AxesSubplot:xlabel='fea_10', ylabel='fea_11'>"
      ]
     },
     "execution_count": 30,
     "metadata": {},
     "output_type": "execute_result"
    },
    {
     "data": {
      "image/png": "[encoded data removed]",
      "text/plain": [
       "<Figure size 864x648 with 1 Axes>"
      ]
     },
     "metadata": {
      "needs_background": "light"
     },
     "output_type": "display_data"
    }
   ],
   "source": [
    "# Random Plot of 2 features to visualize the data imbalance for the Lavbel\n",
    "plt.figure(figsize = (12,9))\n",
    "sns.scatterplot(data = df_merge,\n",
    "                y = 'fea_11',\n",
    "                x = 'fea_10',\n",
    "                hue = 'label')"
   ]
  },
  {
   "cell_type": "markdown",
   "id": "c30888ec",
   "metadata": {},
   "source": [
    "# 2.0 Modelling without Over Sampling\n",
    "___"
   ]
  },
  {
   "cell_type": "code",
   "execution_count": 31,
   "id": "188aecdf",
   "metadata": {},
   "outputs": [
    {
     "name": "stdout",
     "output_type": "stream",
     "text": [
      "Shape of X: (1125, 16)\n",
      "Shape of y: (1125,)\n",
      "0    0.8\n",
      "1    0.2\n",
      "Name: label, dtype: float64\n",
      "---------------------------\n",
      "Shape of X_train: (900, 16)\n",
      "Shape of y_train: (225, 16)\n",
      "0    0.8\n",
      "1    0.2\n",
      "Name: label, dtype: float64\n"
     ]
    }
   ],
   "source": [
    "X = df_merge.drop('label' , axis = 1)\n",
    "y = df_merge['label']\n",
    "\n",
    "print(f'Shape of X: {X.shape}')\n",
    "print(f'Shape of y: {y.shape}')\n",
    "print(y.value_counts(normalize=True))\n",
    "print('---------------------------')\n",
    "\n",
    "\n",
    "X_train , X_test , y_train , y_test = train_test_split(X, \n",
    "                                                       y, \n",
    "                                                       test_size=0.2,\n",
    "                                                       stratify = y,\n",
    "                                                       random_state=42)\n",
    "\n",
    "print(f'Shape of X_train: {X_train.shape}')\n",
    "print(f'Shape of y_train: {X_test.shape}')\n",
    "print(y_train.value_counts(normalize=True))"
   ]
  },
  {
   "cell_type": "code",
   "execution_count": 32,
   "id": "129e42dc",
   "metadata": {},
   "outputs": [],
   "source": [
    "model_1_lr = LogisticRegression()\n",
    "\n",
    "lr_params = {'penalty' : ['l1' , 'l2'],\n",
    "             'C' : np.linspace(0.0001,0.1,200),\n",
    "             'solver' : ['liblinear'],\n",
    "             'max_iter' : [100 , 500 , 1000 , 5000]}"
   ]
  },
  {
   "cell_type": "code",
   "execution_count": 33,
   "id": "1363c6aa",
   "metadata": {},
   "outputs": [
    {
     "data": {
      "text/plain": [
       "GridSearchCV(cv=5, estimator=LogisticRegression(random_state=42),\n",
       "             param_grid={'C': array([0.0001    , 0.00060201, 0.00110402, 0.00160603, 0.00210804,\n",
       "       0.00261005, 0.00311206, 0.00361407, 0.00411608, 0.00461809,\n",
       "       0.0051201 , 0.00562211, 0.00612412, 0.00662613, 0.00712814,\n",
       "       0.00763015, 0.00813216, 0.00863417, 0.00913618, 0.00963819,\n",
       "       0.0101402 , 0.01064221, 0.01114422, 0.01164623, 0.012...\n",
       "       0.08795176, 0.08845377, 0.08895578, 0.08945779, 0.0899598 ,\n",
       "       0.09046181, 0.09096382, 0.09146583, 0.09196784, 0.09246985,\n",
       "       0.09297186, 0.09347387, 0.09397588, 0.09447789, 0.0949799 ,\n",
       "       0.09548191, 0.09598392, 0.09648593, 0.09698794, 0.09748995,\n",
       "       0.09799196, 0.09849397, 0.09899598, 0.09949799, 0.1       ]),\n",
       "                         'max_iter': [100, 500, 1000, 5000],\n",
       "                         'penalty': ['l1', 'l2'], 'solver': ['liblinear']},\n",
       "             verbose=False)"
      ]
     },
     "execution_count": 33,
     "metadata": {},
     "output_type": "execute_result"
    }
   ],
   "source": [
    "model_1_gs = GridSearchCV(LogisticRegression(random_state=42),\n",
    "                          lr_params,\n",
    "                          cv = 5,\n",
    "                          verbose = False)\n",
    "\n",
    "model_1_gs.fit(X_train , y_train)"
   ]
  },
  {
   "cell_type": "code",
   "execution_count": 34,
   "id": "32ccd439",
   "metadata": {},
   "outputs": [
    {
     "data": {
      "text/plain": [
       "{'C': 0.0001, 'max_iter': 100, 'penalty': 'l1', 'solver': 'liblinear'}"
      ]
     },
     "execution_count": 34,
     "metadata": {},
     "output_type": "execute_result"
    }
   ],
   "source": [
    "model_1_gs.best_params_"
   ]
  },
  {
   "cell_type": "code",
   "execution_count": 35,
   "id": "427429f3",
   "metadata": {},
   "outputs": [
    {
     "data": {
      "text/plain": [
       "LogisticRegression(C=0.0001, penalty='l1', solver='liblinear')"
      ]
     },
     "execution_count": 35,
     "metadata": {},
     "output_type": "execute_result"
    }
   ],
   "source": [
    "model_1_lr = LogisticRegression(solver = 'liblinear' , penalty = 'l1' , C = 0.0001)\n",
    "model_1_lr.fit(X_train , y_train)"
   ]
  },
  {
   "cell_type": "code",
   "execution_count": 36,
   "id": "2d716c03",
   "metadata": {},
   "outputs": [
    {
     "data": {
      "image/png": "[encoded data removed]",
      "text/plain": [
       "<Figure size 432x288 with 2 Axes>"
      ]
     },
     "metadata": {
      "needs_background": "light"
     },
     "output_type": "display_data"
    }
   ],
   "source": [
    "y_pred = model_1_lr.predict(X_test)\n",
    "plot_confusion_matrix(model_1_lr , X_test , y_test);"
   ]
  },
  {
   "cell_type": "code",
   "execution_count": 37,
   "id": "ca654e37",
   "metadata": {},
   "outputs": [
    {
     "data": {
      "image/png": "[encoded data removed]",
      "text/plain": [
       "<Figure size 432x288 with 1 Axes>"
      ]
     },
     "metadata": {
      "needs_background": "light"
     },
     "output_type": "display_data"
    }
   ],
   "source": [
    "plot_roc_curve(model_1_lr, X_test, y_test)\n",
    "plt.plot([0, 1], [0, 1],\n",
    "         label='baseline', linestyle='--')\n",
    "plt.legend();"
   ]
  },
  {
   "cell_type": "code",
   "execution_count": 38,
   "id": "345a892b",
   "metadata": {},
   "outputs": [
    {
     "name": "stderr",
     "output_type": "stream",
     "text": [
      "C:\\Users\\Lek\\anaconda3\\lib\\site-packages\\sklearn\\metrics\\_classification.py:1245: UndefinedMetricWarning: Precision is ill-defined and being set to 0.0 due to no predicted samples. Use `zero_division` parameter to control this behavior.\n",
      "  _warn_prf(average, modifier, msg_start, len(result))\n"
     ]
    },
    {
     "data": {
      "text/plain": [
       "{'Accuracy': 0.8, 'Precision': 0.0, 'F1 Score': 0.0, 'Recall': 0.0}"
      ]
     },
     "execution_count": 38,
     "metadata": {},
     "output_type": "execute_result"
    }
   ],
   "source": [
    "result_1 = eval_classification(y_true = y_test , y_pred=y_pred)\n",
    "result_1"
   ]
  },
  {
   "cell_type": "markdown",
   "id": "a9071894",
   "metadata": {},
   "source": [
    "From the results , since the data is **unbalaced** at a ratio of 1:4 , it is easier for the model to just predict the majority. This give rise to 0 score for the f1 score."
   ]
  },
  {
   "cell_type": "markdown",
   "id": "8525472e",
   "metadata": {},
   "source": [
    "# 3.0 Modelling with SMOTE\n",
    "___"
   ]
  },
  {
   "cell_type": "code",
   "execution_count": 39,
   "id": "35702165",
   "metadata": {},
   "outputs": [
    {
     "name": "stdout",
     "output_type": "stream",
     "text": [
      "Shape of X: (1125, 16)\n",
      "Shape of y: (1125,)\n",
      "0    900\n",
      "1    225\n",
      "Name: label, dtype: int64\n",
      "---------------------------\n",
      "Shape of X_sm: (1800, 16)\n",
      "Shape of y_sm: (1800,)\n",
      "[900 900]\n",
      "---------------------------\n",
      "Shape of X_train: (1440, 16)\n",
      "Shape of y_train: (360, 16)\n"
     ]
    }
   ],
   "source": [
    "X = df_merge.drop('label' , axis = 1)\n",
    "y = df_merge['label']\n",
    "\n",
    "print(f'Shape of X: {X.shape}')\n",
    "print(f'Shape of y: {y.shape}')\n",
    "print(y.value_counts())\n",
    "print('---------------------------')\n",
    "\n",
    "smote = SMOTE(sampling_strategy='minority',\n",
    "              random_state = 42)\n",
    "\n",
    "X_sm, y_sm = smote.fit_resample(X = np.array(df_merge.drop('label' , axis = 1)),\n",
    "                                y = np.array(df_merge['label']))\n",
    "\n",
    "print(f'Shape of X_sm: {X_sm.shape}')\n",
    "print(f'Shape of y_sm: {y_sm.shape}')\n",
    "print(np.bincount(y_sm))\n",
    "print('---------------------------')\n",
    "\n",
    "\n",
    "X_train , X_test , y_train , y_test = train_test_split(X_sm , \n",
    "                                                       y_sm , \n",
    "                                                       test_size=0.2,\n",
    "                                                       stratify = y_sm,\n",
    "                                                       random_state=42)\n",
    "\n",
    "print(f'Shape of X_train: {X_train.shape}')\n",
    "print(f'Shape of y_train: {X_test.shape}')"
   ]
  },
  {
   "cell_type": "code",
   "execution_count": 40,
   "id": "d70755d4",
   "metadata": {},
   "outputs": [
    {
     "data": {
      "image/png": "[encoded data removed]",
      "text/plain": [
       "<Figure size 864x648 with 1 Axes>"
      ]
     },
     "metadata": {
      "needs_background": "light"
     },
     "output_type": "display_data"
    }
   ],
   "source": [
    "plt.figure(figsize = (12,9))\n",
    "plot_2d_space(X_sm , y_sm)"
   ]
  },
  {
   "cell_type": "code",
   "execution_count": 41,
   "id": "0aa5d7b5",
   "metadata": {},
   "outputs": [],
   "source": [
    "model_2_lr = LogisticRegression()\n",
    "\n",
    "lr_params = {'penalty' : ['l1' , 'l2'],\n",
    "             'C' : np.linspace(0.0001,0.1,200),\n",
    "             'solver' : ['liblinear']}"
   ]
  },
  {
   "cell_type": "code",
   "execution_count": 42,
   "id": "58106990",
   "metadata": {},
   "outputs": [
    {
     "data": {
      "text/plain": [
       "GridSearchCV(cv=5, estimator=LogisticRegression(random_state=42),\n",
       "             param_grid={'C': array([0.0001    , 0.00060201, 0.00110402, 0.00160603, 0.00210804,\n",
       "       0.00261005, 0.00311206, 0.00361407, 0.00411608, 0.00461809,\n",
       "       0.0051201 , 0.00562211, 0.00612412, 0.00662613, 0.00712814,\n",
       "       0.00763015, 0.00813216, 0.00863417, 0.00913618, 0.00963819,\n",
       "       0.0101402 , 0.01064221, 0.01114422, 0.01164623, 0.012...\n",
       "       0.08544171, 0.08594372, 0.08644573, 0.08694774, 0.08744975,\n",
       "       0.08795176, 0.08845377, 0.08895578, 0.08945779, 0.0899598 ,\n",
       "       0.09046181, 0.09096382, 0.09146583, 0.09196784, 0.09246985,\n",
       "       0.09297186, 0.09347387, 0.09397588, 0.09447789, 0.0949799 ,\n",
       "       0.09548191, 0.09598392, 0.09648593, 0.09698794, 0.09748995,\n",
       "       0.09799196, 0.09849397, 0.09899598, 0.09949799, 0.1       ]),\n",
       "                         'penalty': ['l1', 'l2'], 'solver': ['liblinear']},\n",
       "             verbose=False)"
      ]
     },
     "execution_count": 42,
     "metadata": {},
     "output_type": "execute_result"
    }
   ],
   "source": [
    "model_2_gs = GridSearchCV(LogisticRegression(random_state=42),\n",
    "                          lr_params,\n",
    "                          cv = 5,\n",
    "                          verbose = False)\n",
    "\n",
    "model_2_gs.fit(X_train , y_train)"
   ]
  },
  {
   "cell_type": "code",
   "execution_count": 43,
   "id": "b2ff1aa6",
   "metadata": {},
   "outputs": [
    {
     "data": {
      "text/plain": [
       "{'C': 0.03875477386934674, 'penalty': 'l2', 'solver': 'liblinear'}"
      ]
     },
     "execution_count": 43,
     "metadata": {},
     "output_type": "execute_result"
    }
   ],
   "source": [
    "model_2_gs.best_params_"
   ]
  },
  {
   "cell_type": "code",
   "execution_count": 44,
   "id": "aa91b0cb",
   "metadata": {},
   "outputs": [
    {
     "data": {
      "text/plain": [
       "LogisticRegression(C=0.03857, solver='liblinear')"
      ]
     },
     "execution_count": 44,
     "metadata": {},
     "output_type": "execute_result"
    }
   ],
   "source": [
    "model_2_lr = LogisticRegression(solver = 'liblinear' , penalty = 'l2' , C = 0.03857)\n",
    "model_2_lr.fit(X_train , y_train)"
   ]
  },
  {
   "cell_type": "code",
   "execution_count": 45,
   "id": "f8e7954f",
   "metadata": {},
   "outputs": [
    {
     "data": {
      "text/plain": [
       "<sklearn.metrics._plot.confusion_matrix.ConfusionMatrixDisplay at 0x1fe75f2b280>"
      ]
     },
     "execution_count": 45,
     "metadata": {},
     "output_type": "execute_result"
    },
    {
     "data": {
      "image/png": "[encoded data removed]",
      "text/plain": [
       "<Figure size 432x288 with 2 Axes>"
      ]
     },
     "metadata": {
      "needs_background": "light"
     },
     "output_type": "display_data"
    }
   ],
   "source": [
    "y_pred = model_2_lr.predict(X_test)\n",
    "plot_confusion_matrix(model_2_lr , X_test , y_test)"
   ]
  },
  {
   "cell_type": "code",
   "execution_count": 46,
   "id": "055c8fc5",
   "metadata": {},
   "outputs": [
    {
     "data": {
      "image/png": "[encoded data removed]",
      "text/plain": [
       "<Figure size 432x288 with 1 Axes>"
      ]
     },
     "metadata": {
      "needs_background": "light"
     },
     "output_type": "display_data"
    }
   ],
   "source": [
    "plot_roc_curve(model_2_lr, X_test, y_test)\n",
    "plt.plot([0, 1], [0, 1],\n",
    "         label='baseline', linestyle='--')\n",
    "plt.legend();"
   ]
  },
  {
   "cell_type": "code",
   "execution_count": 47,
   "id": "06e995f5",
   "metadata": {},
   "outputs": [
    {
     "data": {
      "text/plain": [
       "{'Accuracy': 0.6694444444444444,\n",
       " 'Precision': 0.6502463054187192,\n",
       " 'F1 Score': 0.6892950391644909,\n",
       " 'Recall': 0.7333333333333333}"
      ]
     },
     "execution_count": 47,
     "metadata": {},
     "output_type": "execute_result"
    }
   ],
   "source": [
    "result_2 = eval_classification(y_true = y_test , y_pred=y_pred)\n",
    "result_2"
   ]
  },
  {
   "cell_type": "markdown",
   "id": "08dfd566",
   "metadata": {},
   "source": [
    "# 4.0 Modelling with Random Under Sampling\n",
    "___"
   ]
  },
  {
   "cell_type": "code",
   "execution_count": 48,
   "id": "5b86251f",
   "metadata": {},
   "outputs": [],
   "source": [
    "from imblearn.under_sampling import RandomUnderSampler"
   ]
  },
  {
   "cell_type": "code",
   "execution_count": 49,
   "id": "059a6a0b",
   "metadata": {},
   "outputs": [
    {
     "name": "stdout",
     "output_type": "stream",
     "text": [
      "Shape of X: (1125, 16)\n",
      "Shape of y: (1125,)\n",
      "0    900\n",
      "1    225\n",
      "Name: label, dtype: int64\n",
      "---------------------------\n",
      "Shape of X_rus: (450, 16)\n",
      "Shape of y_rus: (450,)\n",
      "[225 225]\n",
      "---------------------------\n",
      "Shape of X_train: (360, 16)\n",
      "Shape of y_train: (90, 16)\n"
     ]
    }
   ],
   "source": [
    "X = df_merge.drop('label' , axis = 1)\n",
    "y = df_merge['label']\n",
    "\n",
    "print(f'Shape of X: {X.shape}')\n",
    "print(f'Shape of y: {y.shape}')\n",
    "print(y.value_counts())\n",
    "print('---------------------------')\n",
    "\n",
    "rus = RandomUnderSampler(sampling_strategy='majority',\n",
    "                          random_state = 42)\n",
    "\n",
    "X_rus, y_rus = rus.fit_resample(X = np.array(df_merge.drop('label' , axis = 1)),\n",
    "                                y = np.array(df_merge['label']))\n",
    "\n",
    "print(f'Shape of X_rus: {X_rus.shape}')\n",
    "print(f'Shape of y_rus: {y_rus.shape}')\n",
    "print(np.bincount(y_rus))\n",
    "print('---------------------------')\n",
    "\n",
    "\n",
    "X_train , X_test , y_train , y_test = train_test_split(X_rus , \n",
    "                                                       y_rus , \n",
    "                                                       test_size=0.2,\n",
    "                                                       stratify = y_rus,\n",
    "                                                       random_state=42)\n",
    "\n",
    "print(f'Shape of X_train: {X_train.shape}')\n",
    "print(f'Shape of y_train: {X_test.shape}')"
   ]
  },
  {
   "cell_type": "code",
   "execution_count": 50,
   "id": "4ee5204b",
   "metadata": {},
   "outputs": [
    {
     "data": {
      "image/png": "[encoded data removed]",
      "text/plain": [
       "<Figure size 864x576 with 2 Axes>"
      ]
     },
     "metadata": {
      "needs_background": "light"
     },
     "output_type": "display_data"
    }
   ],
   "source": [
    "plt.figure(figsize = (12,8))\n",
    "\n",
    "plt.subplot(1,2,1)\n",
    "plot_2d_space(X_sm , y_sm , label = 'Smote Over Sample')\n",
    "\n",
    "plt.subplot(1,2,2)\n",
    "plot_2d_space(X_rus , y_rus , label = 'Random Under Sample')"
   ]
  },
  {
   "cell_type": "code",
   "execution_count": 51,
   "id": "fec1c000",
   "metadata": {},
   "outputs": [
    {
     "data": {
      "text/plain": [
       "GridSearchCV(cv=5, estimator=LogisticRegression(random_state=42),\n",
       "             param_grid={'C': array([0.0001    , 0.00060201, 0.00110402, 0.00160603, 0.00210804,\n",
       "       0.00261005, 0.00311206, 0.00361407, 0.00411608, 0.00461809,\n",
       "       0.0051201 , 0.00562211, 0.00612412, 0.00662613, 0.00712814,\n",
       "       0.00763015, 0.00813216, 0.00863417, 0.00913618, 0.00963819,\n",
       "       0.0101402 , 0.01064221, 0.01114422, 0.01164623, 0.012...\n",
       "       0.08544171, 0.08594372, 0.08644573, 0.08694774, 0.08744975,\n",
       "       0.08795176, 0.08845377, 0.08895578, 0.08945779, 0.0899598 ,\n",
       "       0.09046181, 0.09096382, 0.09146583, 0.09196784, 0.09246985,\n",
       "       0.09297186, 0.09347387, 0.09397588, 0.09447789, 0.0949799 ,\n",
       "       0.09548191, 0.09598392, 0.09648593, 0.09698794, 0.09748995,\n",
       "       0.09799196, 0.09849397, 0.09899598, 0.09949799, 0.1       ]),\n",
       "                         'penalty': ['l1', 'l2'], 'solver': ['liblinear']},\n",
       "             verbose=False)"
      ]
     },
     "execution_count": 51,
     "metadata": {},
     "output_type": "execute_result"
    }
   ],
   "source": [
    "model_3_lr = LogisticRegression()\n",
    "\n",
    "lr_params = {'penalty' : ['l1' , 'l2'],\n",
    "             'C' : np.linspace(0.0001,0.1,200),\n",
    "             'solver' : ['liblinear']}\n",
    "\n",
    "model_3_gs = GridSearchCV(LogisticRegression(random_state=42),\n",
    "                          lr_params,\n",
    "                          cv = 5,\n",
    "                          verbose = False)\n",
    "\n",
    "model_3_gs.fit(X_train , y_train)"
   ]
  },
  {
   "cell_type": "code",
   "execution_count": 52,
   "id": "a37fdbac",
   "metadata": {},
   "outputs": [
    {
     "data": {
      "text/plain": [
       "{'C': 0.0874497487437186, 'penalty': 'l2', 'solver': 'liblinear'}"
      ]
     },
     "execution_count": 52,
     "metadata": {},
     "output_type": "execute_result"
    }
   ],
   "source": [
    "model_3_gs.best_params_"
   ]
  },
  {
   "cell_type": "code",
   "execution_count": 53,
   "id": "962d6370",
   "metadata": {},
   "outputs": [
    {
     "data": {
      "text/plain": [
       "LogisticRegression(C=0.00874497, random_state=42, solver='liblinear')"
      ]
     },
     "execution_count": 53,
     "metadata": {},
     "output_type": "execute_result"
    }
   ],
   "source": [
    "model_3_lr = LogisticRegression(C = 0.00874497,\n",
    "                                penalty = 'l2',\n",
    "                                solver = 'liblinear',\n",
    "                                random_state=42)\n",
    "\n",
    "model_3_lr.fit(X_train , y_train)"
   ]
  },
  {
   "cell_type": "code",
   "execution_count": 54,
   "id": "e3c04c4d",
   "metadata": {},
   "outputs": [
    {
     "data": {
      "text/plain": [
       "<sklearn.metrics._plot.confusion_matrix.ConfusionMatrixDisplay at 0x1fe78a408b0>"
      ]
     },
     "execution_count": 54,
     "metadata": {},
     "output_type": "execute_result"
    },
    {
     "data": {
      "image/png": "[encoded data removed]",
      "text/plain": [
       "<Figure size 432x288 with 2 Axes>"
      ]
     },
     "metadata": {
      "needs_background": "light"
     },
     "output_type": "display_data"
    }
   ],
   "source": [
    "y_pred = model_3_lr.predict(X_test)\n",
    "\n",
    "plot_confusion_matrix(model_3_lr , X_test , y_test)"
   ]
  },
  {
   "cell_type": "code",
   "execution_count": 55,
   "id": "843d563d",
   "metadata": {},
   "outputs": [
    {
     "data": {
      "text/plain": [
       "{'Accuracy': 0.6333333333333333,\n",
       " 'Precision': 0.6428571428571429,\n",
       " 'F1 Score': 0.6206896551724138,\n",
       " 'Recall': 0.6}"
      ]
     },
     "execution_count": 55,
     "metadata": {},
     "output_type": "execute_result"
    }
   ],
   "source": [
    "result_3 = eval_classification(y_true = y_test , y_pred=y_pred)\n",
    "result_3"
   ]
  },
  {
   "cell_type": "markdown",
   "id": "5050a8b5",
   "metadata": {},
   "source": [
    "# 5.0 Modelling with Over Sampling with varying minority Size\n",
    "___"
   ]
  },
  {
   "cell_type": "code",
   "execution_count": 56,
   "id": "16f74b0d",
   "metadata": {},
   "outputs": [
    {
     "name": "stdout",
     "output_type": "stream",
     "text": [
      "Wall time: 1min 11s\n"
     ]
    }
   ],
   "source": [
    "%%time\n",
    "X = df_merge.drop('label' , axis = 1)\n",
    "y = df_merge['label']\n",
    "\n",
    "\n",
    "df = pd.DataFrame()\n",
    "\n",
    "for i in np.arange(0.4 , 1 , 0.1):\n",
    "    smote = SMOTE(sampling_strategy= i,\n",
    "                              random_state = 42)\n",
    "\n",
    "    X_sm, y_sm = smote.fit_resample(X = np.array(df_merge.drop('label' , axis = 1)),\n",
    "                                 y = np.array(df_merge['label']))\n",
    "\n",
    "    X_train , X_test , y_train , y_test = train_test_split(X_sm , \n",
    "                                                           y_sm , \n",
    "                                                           test_size=0.2,\n",
    "                                                           stratify = y_sm,\n",
    "                                                           random_state=42)\n",
    "    model_4_lr = LogisticRegression()\n",
    "\n",
    "    lr_params = {'penalty' : ['l1' , 'l2'],\n",
    "                 'C' : np.linspace(0.0001,0.1,200),\n",
    "                 'solver' : ['liblinear']}\n",
    "\n",
    "    model_4_gs = GridSearchCV(LogisticRegression(random_state=42),\n",
    "                              lr_params,\n",
    "                              cv = 5,\n",
    "                              verbose = False)\n",
    "\n",
    "    model_4_gs.fit(X_train , y_train)\n",
    "\n",
    "    y_pred = model_4_gs.predict(X_test)\n",
    "    \n",
    "    results = eval_classification(y_true = y_test , y_pred=y_pred)\n",
    "    df = df.append(results , ignore_index=True)"
   ]
  },
  {
   "cell_type": "code",
   "execution_count": 57,
   "id": "94b48a88",
   "metadata": {},
   "outputs": [
    {
     "data": {
      "text/html": [
       "<div>\n",
       "<style scoped>\n",
       "    .dataframe tbody tr th:only-of-type {\n",
       "        vertical-align: middle;\n",
       "    }\n",
       "\n",
       "    .dataframe tbody tr th {\n",
       "        vertical-align: top;\n",
       "    }\n",
       "\n",
       "    .dataframe thead th {\n",
       "        text-align: right;\n",
       "    }\n",
       "</style>\n",
       "<table border=\"1\" class=\"dataframe\">\n",
       "  <thead>\n",
       "    <tr style=\"text-align: right;\">\n",
       "      <th></th>\n",
       "      <th>Accuracy</th>\n",
       "      <th>F1 Score</th>\n",
       "      <th>Precision</th>\n",
       "      <th>Recall</th>\n",
       "    </tr>\n",
       "  </thead>\n",
       "  <tbody>\n",
       "    <tr>\n",
       "      <th>0</th>\n",
       "      <td>0.722222</td>\n",
       "      <td>0.166667</td>\n",
       "      <td>0.583333</td>\n",
       "      <td>0.097222</td>\n",
       "    </tr>\n",
       "    <tr>\n",
       "      <th>1</th>\n",
       "      <td>0.688889</td>\n",
       "      <td>0.275862</td>\n",
       "      <td>0.615385</td>\n",
       "      <td>0.177778</td>\n",
       "    </tr>\n",
       "    <tr>\n",
       "      <th>2</th>\n",
       "      <td>0.666667</td>\n",
       "      <td>0.376623</td>\n",
       "      <td>0.630435</td>\n",
       "      <td>0.268519</td>\n",
       "    </tr>\n",
       "    <tr>\n",
       "      <th>3</th>\n",
       "      <td>0.679739</td>\n",
       "      <td>0.533333</td>\n",
       "      <td>0.666667</td>\n",
       "      <td>0.444444</td>\n",
       "    </tr>\n",
       "    <tr>\n",
       "      <th>4</th>\n",
       "      <td>0.669753</td>\n",
       "      <td>0.596226</td>\n",
       "      <td>0.652893</td>\n",
       "      <td>0.548611</td>\n",
       "    </tr>\n",
       "    <tr>\n",
       "      <th>5</th>\n",
       "      <td>0.681287</td>\n",
       "      <td>0.670695</td>\n",
       "      <td>0.656805</td>\n",
       "      <td>0.685185</td>\n",
       "    </tr>\n",
       "  </tbody>\n",
       "</table>\n",
       "</div>"
      ],
      "text/plain": [
       "   Accuracy  F1 Score  Precision    Recall\n",
       "0  0.722222  0.166667   0.583333  0.097222\n",
       "1  0.688889  0.275862   0.615385  0.177778\n",
       "2  0.666667  0.376623   0.630435  0.268519\n",
       "3  0.679739  0.533333   0.666667  0.444444\n",
       "4  0.669753  0.596226   0.652893  0.548611\n",
       "5  0.681287  0.670695   0.656805  0.685185"
      ]
     },
     "execution_count": 57,
     "metadata": {},
     "output_type": "execute_result"
    }
   ],
   "source": [
    "df"
   ]
  },
  {
   "cell_type": "markdown",
   "id": "4d0955a7",
   "metadata": {},
   "source": [
    "# 6.0 Modelling with Hybrid Oversample and UnderSample\n",
    "___"
   ]
  },
  {
   "cell_type": "code",
   "execution_count": 58,
   "id": "299beb4d",
   "metadata": {},
   "outputs": [],
   "source": [
    "from imblearn.combine import SMOTEENN"
   ]
  },
  {
   "cell_type": "code",
   "execution_count": 59,
   "id": "3d43d1c2",
   "metadata": {},
   "outputs": [
    {
     "name": "stdout",
     "output_type": "stream",
     "text": [
      "Shape of X: (1125, 16)\n",
      "Shape of y: (1125,)\n",
      "0    900\n",
      "1    225\n",
      "Name: label, dtype: int64\n",
      "---------------------------\n",
      "Shape of X_smenn: (789, 16)\n",
      "Shape of y_smenn: (789,)\n",
      "[372 417]\n",
      "---------------------------\n",
      "Shape of X_train: (631, 16)\n",
      "Shape of y_train: (158, 16)\n"
     ]
    }
   ],
   "source": [
    "\n",
    "\n",
    "X = df_merge.drop('label' , axis = 1)\n",
    "y = df_merge['label']\n",
    "\n",
    "print(f'Shape of X: {X.shape}')\n",
    "print(f'Shape of y: {y.shape}')\n",
    "print(y.value_counts())\n",
    "print('---------------------------')\n",
    "\n",
    "smenn = SMOTEENN(random_state=42)\n",
    "\n",
    "X_smenn, y_smenn = smenn.fit_resample(X = np.array(df_merge.drop('label' , axis = 1)),\n",
    "                                      y = np.array(df_merge['label']))\n",
    "\n",
    "print(f'Shape of X_smenn: {X_smenn.shape}')\n",
    "print(f'Shape of y_smenn: {y_smenn.shape}')\n",
    "print(np.bincount(y_smenn))\n",
    "print('---------------------------')\n",
    "\n",
    "\n",
    "X_train , X_test , y_train , y_test = train_test_split(X_smenn , \n",
    "                                                       y_smenn , \n",
    "                                                       test_size=0.2,\n",
    "                                                       stratify = y_smenn,\n",
    "                                                       random_state=42)\n",
    "\n",
    "print(f'Shape of X_train: {X_train.shape}')\n",
    "print(f'Shape of y_train: {X_test.shape}')"
   ]
  },
  {
   "cell_type": "code",
   "execution_count": 60,
   "id": "b53384e8",
   "metadata": {},
   "outputs": [
    {
     "data": {
      "image/png": "[encoded data removed]",
      "text/plain": [
       "<Figure size 1152x576 with 3 Axes>"
      ]
     },
     "metadata": {
      "needs_background": "light"
     },
     "output_type": "display_data"
    }
   ],
   "source": [
    "plt.figure(figsize = (16,8))\n",
    "\n",
    "plt.subplot(1,3,1)\n",
    "plot_2d_space(X_sm , y_sm , label = 'Smote Over Sampling')\n",
    "\n",
    "plt.subplot(1,3,2)\n",
    "plot_2d_space(X_sm , y_sm , label = 'Random Under Sampling')\n",
    "\n",
    "plt.subplot(1,3,3)\n",
    "plot_2d_space(X_smenn , y_smenn , label = 'SmoteENN')"
   ]
  },
  {
   "cell_type": "code",
   "execution_count": 61,
   "id": "b800361e",
   "metadata": {},
   "outputs": [
    {
     "data": {
      "text/plain": [
       "<sklearn.metrics._plot.confusion_matrix.ConfusionMatrixDisplay at 0x1fe783413a0>"
      ]
     },
     "execution_count": 61,
     "metadata": {},
     "output_type": "execute_result"
    },
    {
     "data": {
      "image/png": "[encoded data removed]",
      "text/plain": [
       "<Figure size 432x288 with 2 Axes>"
      ]
     },
     "metadata": {
      "needs_background": "light"
     },
     "output_type": "display_data"
    }
   ],
   "source": [
    "model_5_lr = LogisticRegression()\n",
    "\n",
    "lr_params = {'penalty' : ['l1' , 'l2'],\n",
    "             'C' : np.linspace(0.0001,0.1,200),\n",
    "             'solver' : ['liblinear']}\n",
    "\n",
    "model_5_gs = GridSearchCV(LogisticRegression(random_state=42),\n",
    "                          lr_params,\n",
    "                          cv = 5,\n",
    "                          verbose = False)\n",
    "\n",
    "model_5_gs.fit(X_train , y_train)\n",
    "\n",
    "y_pred = model_5_gs.predict(X_test)\n",
    "\n",
    "plot_confusion_matrix(model_5_gs , X_test , y_test)"
   ]
  },
  {
   "cell_type": "code",
   "execution_count": 62,
   "id": "379c7004",
   "metadata": {},
   "outputs": [
    {
     "data": {
      "text/plain": [
       "{'Accuracy': 0.7468354430379747,\n",
       " 'Precision': 0.75,\n",
       " 'F1 Score': 0.7674418604651163,\n",
       " 'Recall': 0.7857142857142857}"
      ]
     },
     "execution_count": 62,
     "metadata": {},
     "output_type": "execute_result"
    }
   ],
   "source": [
    "result_5 = eval_classification(y_true = y_test , y_pred=y_pred)\n",
    "result_5"
   ]
  },
  {
   "cell_type": "markdown",
   "id": "efd20387",
   "metadata": {},
   "source": [
    "# Summary result\n",
    "___"
   ]
  },
  {
   "cell_type": "code",
   "execution_count": 65,
   "id": "8986eedc",
   "metadata": {},
   "outputs": [
    {
     "data": {
      "text/html": [
       "<div>\n",
       "<style scoped>\n",
       "    .dataframe tbody tr th:only-of-type {\n",
       "        vertical-align: middle;\n",
       "    }\n",
       "\n",
       "    .dataframe tbody tr th {\n",
       "        vertical-align: top;\n",
       "    }\n",
       "\n",
       "    .dataframe thead th {\n",
       "        text-align: right;\n",
       "    }\n",
       "</style>\n",
       "<table border=\"1\" class=\"dataframe\">\n",
       "  <thead>\n",
       "    <tr style=\"text-align: right;\">\n",
       "      <th></th>\n",
       "      <th>Accuracy</th>\n",
       "      <th>Precision</th>\n",
       "      <th>F1 Score</th>\n",
       "      <th>Recall</th>\n",
       "    </tr>\n",
       "  </thead>\n",
       "  <tbody>\n",
       "    <tr>\n",
       "      <th>Baseline</th>\n",
       "      <td>0.800000</td>\n",
       "      <td>0.000000</td>\n",
       "      <td>0.000000</td>\n",
       "      <td>0.000000</td>\n",
       "    </tr>\n",
       "    <tr>\n",
       "      <th>Smote</th>\n",
       "      <td>0.669444</td>\n",
       "      <td>0.650246</td>\n",
       "      <td>0.689295</td>\n",
       "      <td>0.733333</td>\n",
       "    </tr>\n",
       "    <tr>\n",
       "      <th>RUS</th>\n",
       "      <td>0.633333</td>\n",
       "      <td>0.642857</td>\n",
       "      <td>0.620690</td>\n",
       "      <td>0.600000</td>\n",
       "    </tr>\n",
       "    <tr>\n",
       "      <th>SmoteENN</th>\n",
       "      <td>0.746835</td>\n",
       "      <td>0.750000</td>\n",
       "      <td>0.767442</td>\n",
       "      <td>0.785714</td>\n",
       "    </tr>\n",
       "  </tbody>\n",
       "</table>\n",
       "</div>"
      ],
      "text/plain": [
       "          Accuracy  Precision  F1 Score    Recall\n",
       "Baseline  0.800000   0.000000  0.000000  0.000000\n",
       "Smote     0.669444   0.650246  0.689295  0.733333\n",
       "RUS       0.633333   0.642857  0.620690  0.600000\n",
       "SmoteENN  0.746835   0.750000  0.767442  0.785714"
      ]
     },
     "execution_count": 65,
     "metadata": {},
     "output_type": "execute_result"
    }
   ],
   "source": [
    "result = {'Baseline' : result_1,\n",
    "          'Smote': result_2,\n",
    "          'RUS' : result_3,\n",
    "          'SmoteENN' : result_5}\n",
    "\n",
    "df = pd.DataFrame.from_dict(result).T\n",
    "df"
   ]
  }
 ],
 "metadata": {
  "kernelspec": {
   "display_name": "Python 3",
   "language": "python",
   "name": "python3"
  },
  "language_info": {
   "codemirror_mode": {
    "name": "ipython",
    "version": 3
   },
   "file_extension": ".py",
   "mimetype": "text/x-python",
   "name": "python",
   "nbconvert_exporter": "python",
   "pygments_lexer": "ipython3",
   "version": "3.8.8"
  }
 },
 "nbformat": 4,
 "nbformat_minor": 5
}
